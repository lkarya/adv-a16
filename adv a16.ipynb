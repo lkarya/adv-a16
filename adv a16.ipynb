{
 "cells": [
  {
   "cell_type": "code",
   "execution_count": null,
   "id": "5fe689f1",
   "metadata": {},
   "outputs": [],
   "source": [
    "# What is the benefit of regular expressions?\n",
    "\n",
    "Regular expressions are useful in search and replace operations. \n",
    "The typical use case is to look for a sub-string that matches a pattern and replace it with something else."
   ]
  },
  {
   "cell_type": "code",
   "execution_count": null,
   "id": "f196b3eb",
   "metadata": {},
   "outputs": [],
   "source": [
    "# How does compiling a regular-expression object benefit you?\n",
    "\n",
    "\n",
    "We can combine a regular expression pattern into pattern objects, which can be used for pattern matching. \n",
    "It also helps to search a pattern again without rewriting it."
   ]
  },
  {
   "cell_type": "code",
   "execution_count": null,
   "id": "34109b52",
   "metadata": {},
   "outputs": [],
   "source": [
    "# What are some examples of how to use the match object returned by re.match and re.search?\n",
    "\n",
    "re.search() is returning match object and implies that first match found at index 69.\n",
    "re.match() is returning none because match exists in the second line of the string and re.match() only works if the match is found at the beginning of the string. "
   ]
  },
  {
   "cell_type": "code",
   "execution_count": null,
   "id": "a947c337",
   "metadata": {},
   "outputs": [],
   "source": [
    "# What is the difference between using a vertical bar (|) as an alteration and using square brackets as a character set?\n",
    "\n",
    "When I use this code in java to change the format of a String (Using |):\n",
    "\n",
    "str = str.replaceAll(\"(\\\\d+|\\\\W)\", \"$0 \").replaceAll(\"\\\\s+\", \" \").trim();\n",
    "From: (12+((23+ 37) * (774*435)))\n",
    "\n",
    "To: ( 12 + ( ( 23 + 37 ) * ( 774 * 435 ) ) )\n",
    "\n",
    "Which is the desired output."
   ]
  },
  {
   "cell_type": "code",
   "execution_count": null,
   "id": "e3bf6663",
   "metadata": {},
   "outputs": [],
   "source": [
    "# In regular-expression search patterns, why is it necessary to use the raw-string indicator (r)? In replacement strings?\n",
    "\n",
    "Why do we use raw string in regex?\n",
    "Raw strings help you get the \"source code\" of a RegEx safely to the RegEx parser, \n",
    "which will then assign meaning to character sequences like \\d , \\w , \\n , etc"
   ]
  }
 ],
 "metadata": {
  "kernelspec": {
   "display_name": "Python 3 (ipykernel)",
   "language": "python",
   "name": "python3"
  },
  "language_info": {
   "codemirror_mode": {
    "name": "ipython",
    "version": 3
   },
   "file_extension": ".py",
   "mimetype": "text/x-python",
   "name": "python",
   "nbconvert_exporter": "python",
   "pygments_lexer": "ipython3",
   "version": "3.9.7"
  }
 },
 "nbformat": 4,
 "nbformat_minor": 5
}
